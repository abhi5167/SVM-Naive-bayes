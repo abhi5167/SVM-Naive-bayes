{
  "nbformat": 4,
  "nbformat_minor": 0,
  "metadata": {
    "colab": {
      "provenance": []
    },
    "kernelspec": {
      "name": "python3",
      "display_name": "Python 3"
    },
    "language_info": {
      "name": "python"
    }
  },
  "cells": [
    {
      "cell_type": "markdown",
      "source": [
        "# **SVM & Naive bayes**"
      ],
      "metadata": {
        "id": "xSUDAbqgQFpi"
      }
    },
    {
      "cell_type": "markdown",
      "source": [
        "**Therotical Question**"
      ],
      "metadata": {
        "id": "-waHxsGCQAG6"
      }
    },
    {
      "cell_type": "markdown",
      "source": [
        "✅Q1. What is a Support Vector Machine (SVM)?\n",
        "\n",
        "\n",
        "Answer: Support Vector Machine (SVM) is a supervised learning algorithm used for classification and regression tasks. It finds the optimal hyperplane that best separates the classes in the feature space with maximum margin.\n",
        "\n",
        "✅ Q2. What is the difference between Hard Margin and Soft Margin SVM?\n",
        "\n",
        "\n",
        "Answer: Hard Margin SVM does not allow any misclassification and is used when data is perfectly linearly separable. Soft Margin SVM allows some misclassifications to improve generalization on noisy or overlapping data.\n",
        "\n",
        "✅ Q3. What is the mathematical intuition behind SVM?\n",
        "\n",
        "\n",
        "Answer: SVM maximizes the margin between the decision boundary (hyperplane) and the nearest data points from each class (support vectors), by solving a constrained optimization problem.\n",
        "\n",
        "✅ Q4. What is the role of Lagrange Multipliers in SVM?\n",
        "\n",
        "\n",
        "Answer: Lagrange Multipliers are used to convert the constrained optimization problem into a dual problem. They simplify computation and allow the use of the kernel trick in non-linear SVMs.\n",
        "\n",
        "✅ Q5. What are Support Vectors in SVM?\n",
        "\n",
        "\n",
        "Answer: Support Vectors are the data points that are closest to the decision boundary and directly influence the position and orientation of the separating hyperplane.\n",
        "\n",
        "✅ Q6. What is a Support Vector Classifier (SVC)?\n",
        "\n",
        "\n",
        "Answer: Support Vector Classifier is the classification implementation of SVM. It constructs a hyperplane to separate classes in the feature space using linear or kernel-based approaches.\n",
        "\n",
        "✅ Q7. What is a Support Vector Regressor (SVR)?\n",
        "\n",
        "\n",
        "Answer: Support Vector Regressor is the regression counterpart of SVM. It tries to fit the best line within a given margin to predict continuous target values.\n",
        "\n",
        "✅ Q8. What is the Kernel Trick in SVM?\n",
        "\n",
        "\n",
        "Answer: The kernel trick is a technique that allows SVM to learn non-linear decision boundaries by implicitly mapping data into a higher-dimensional space without computing it explicitly.\n",
        "\n",
        "✅ Q9. Compare Linear Kernel, Polynomial Kernel, and RBF Kernel.\n",
        "\n",
        "\n",
        "Answer:\n",
        "\n",
        "Linear Kernel: Used for linearly separable data.\n",
        "\n",
        "Polynomial Kernel: Captures polynomial relationships of varying degrees.\n",
        "\n",
        "RBF Kernel: Handles non-linear data by using the distance between points; widely used in practice.\n",
        "\n",
        "✅ Q10. What is the effect of the C parameter in SVM?\n",
        "\n",
        "\n",
        "Answer: The C parameter controls the trade-off between maximizing the margin and minimizing classification error. A high C leads to less tolerance for error (overfitting), while a low C allows a wider margin (better generalization).\n",
        "\n",
        "✅ Q11. What is the role of the Gamma parameter in RBF Kernel SVM?\n",
        "\n",
        "\n",
        "Answer: Gamma defines how far the influence of a single training example reaches. High gamma means closer influence, which may overfit; low gamma spreads the influence, possibly underfitting.\n",
        "\n",
        "✅ Q12. What is the Naïve Bayes classifier, and why is it called \"Naïve\"?\n",
        "\n",
        "\n",
        "Answer: Naïve Bayes is a probabilistic classifier based on Bayes’ Theorem, assuming all features are conditionally independent. It's called “naïve” due to this unrealistic independence assumption.\n",
        "\n",
        "✅ Q13. What is Bayes' Theorem?\n",
        "\n",
        "\n",
        "Answer: Bayes’ Theorem calculates the posterior probability of a class based on prior probability and likelihood:\n",
        "\n",
        "𝑃\n",
        "(\n",
        "𝐴\n",
        "∣\n",
        "𝐵\n",
        ")\n",
        "=\n",
        "𝑃\n",
        "(\n",
        "𝐵\n",
        "∣\n",
        "𝐴\n",
        ")\n",
        "⋅\n",
        "𝑃\n",
        "(\n",
        "𝐴\n",
        ")\n",
        "𝑃\n",
        "(\n",
        "𝐵\n",
        ")\n",
        "P(A∣B)=\n",
        "P(B)\n",
        "P(B∣A)⋅P(A)\n",
        "​\n",
        "\n",
        "✅ Q14. Explain the differences between Gaussian Naïve Bayes, Multinomial Naïve Bayes, and Bernoulli Naïve Bayes.\n",
        "\n",
        "\n",
        "Answer:\n",
        "\n",
        "Gaussian NB: For continuous data, assumes normal distribution.\n",
        "\n",
        "Multinomial NB: For count-based data like word frequencies.\n",
        "\n",
        "Bernoulli NB: For binary data indicating presence or absence of features.\n",
        "\n",
        "✅ Q15. When should you use Gaussian Naïve Bayes over other variants?\n",
        "\n",
        "\n",
        "Answer: Gaussian Naïve Bayes is suitable when the features are continuous and follow a normal (Gaussian) distribution, such as age, height, etc.\n",
        "\n",
        "✅ Q16. What are the key assumptions made by Naïve Bayes?\n",
        "\n",
        "\n",
        "Answer:\n",
        "\n",
        "All features are conditionally independent given the class.\n",
        "\n",
        "Features contribute equally to the outcome.\n",
        "\n",
        "✅ Q17. What are the advantages and disadvantages of Naïve Bayes?\n",
        "\n",
        "\n",
        "Answer:\n",
        "Advantages:\n",
        "\n",
        "Fast and simple to implement\n",
        "\n",
        "Works well with high-dimensional data\n",
        "\n",
        "Effective for text classification\n",
        "Disadvantages:\n",
        "\n",
        "Strong independence assumption\n",
        "\n",
        "May perform poorly if features are correlated\n",
        "\n",
        "✅ Q18. Why is Naïve Bayes a good choice for text classification?\n",
        "\n",
        "\n",
        "Answer: Because it handles high-dimensional and sparse data efficiently, is fast to train and predict, and performs well even with small amounts of data.\n",
        "\n",
        "✅ Q19. Compare SVM and Naïve Bayes for classification tasks.\n",
        "\n",
        "\n",
        "Answer:\n",
        "\n",
        "Feature\tSVM\tNaïve Bayes\n",
        "Type\tDiscriminative\tGenerative\n",
        "Speed\tSlower\tVery fast\n",
        "Accuracy\tHigh (on complex data)\tGood (on simple/text data)\n",
        "Assumption\tNo assumption\tAssumes feature independence\n",
        "Noise tolerance\tHigher\tLower\n",
        "\n",
        "✅ Q20. How does Laplace Smoothing help in Naïve Bayes?\n",
        "\n",
        "\n",
        "Answer: Laplace Smoothing adds a small value (usually 1) to all feature counts to prevent zero probabilities, especially when a word or feature is not seen in the training data."
      ],
      "metadata": {
        "id": "ATj0bgpcPj5A"
      }
    },
    {
      "cell_type": "markdown",
      "source": [
        "**Practical Question**"
      ],
      "metadata": {
        "id": "rqO8-MzEP-n0"
      }
    },
    {
      "cell_type": "markdown",
      "source": [
        " Q21. Write a Python program to train an SVM Classifier on the Iris dataset and evaluate accuracy."
      ],
      "metadata": {
        "id": "NDvdZnuGQR0C"
      }
    },
    {
      "cell_type": "code",
      "source": [
        "from sklearn import datasets\n",
        "from sklearn.model_selection import train_test_split\n",
        "from sklearn.svm import SVC\n",
        "from sklearn.metrics import accuracy_score\n",
        "\n",
        "iris = datasets.load_iris()\n",
        "X, y = iris.data, iris.target\n",
        "\n",
        "X_train, X_test, y_train, y_test = train_test_split(X, y, test_size=0.2, random_state=42)\n",
        "\n",
        "model = SVC()\n",
        "model.fit(X_train, y_train)\n",
        "y_pred = model.predict(X_test)\n",
        "\n",
        "print(\"Accuracy:\", accuracy_score(y_test, y_pred))\n"
      ],
      "metadata": {
        "colab": {
          "base_uri": "https://localhost:8080/"
        },
        "id": "2gMogEDHQvqG",
        "outputId": "2b650461-85fb-494c-9d4d-dd747a003f5e"
      },
      "execution_count": 1,
      "outputs": [
        {
          "output_type": "stream",
          "name": "stdout",
          "text": [
            "Accuracy: 1.0\n"
          ]
        }
      ]
    },
    {
      "cell_type": "markdown",
      "source": [
        "Q22. Write a Python program to train two SVM classifiers with Linear and RBF kernels on the Wine dataset, then compare their accuracies."
      ],
      "metadata": {
        "id": "uY3ruwNhQxxg"
      }
    },
    {
      "cell_type": "code",
      "source": [
        "from sklearn import datasets\n",
        "from sklearn.model_selection import train_test_split\n",
        "from sklearn.svm import SVC\n",
        "from sklearn.metrics import accuracy_score\n",
        "\n",
        "wine = datasets.load_wine()\n",
        "X, y = wine.data, wine.target\n",
        "X_train, X_test, y_train, y_test = train_test_split(X, y, test_size=0.2, random_state=42)\n",
        "\n",
        "model_linear = SVC(kernel='linear')\n",
        "model_linear.fit(X_train, y_train)\n",
        "acc_linear = accuracy_score(y_test, model_linear.predict(X_test))\n",
        "\n",
        "model_rbf = SVC(kernel='rbf')\n",
        "model_rbf.fit(X_train, y_train)\n",
        "acc_rbf = accuracy_score(y_test, model_rbf.predict(X_test))\n",
        "\n",
        "print(\"Linear Kernel Accuracy:\", acc_linear)\n",
        "print(\"RBF Kernel Accuracy:\", acc_rbf)\n"
      ],
      "metadata": {
        "colab": {
          "base_uri": "https://localhost:8080/"
        },
        "id": "a-ihOQdHQz5N",
        "outputId": "8963f90c-1dc1-4481-9957-d38cac49d0db"
      },
      "execution_count": 2,
      "outputs": [
        {
          "output_type": "stream",
          "name": "stdout",
          "text": [
            "Linear Kernel Accuracy: 1.0\n",
            "RBF Kernel Accuracy: 0.8055555555555556\n"
          ]
        }
      ]
    },
    {
      "cell_type": "markdown",
      "source": [
        "Q23. Write a Python program to train an SVM Regressor (SVR) on a housing dataset and evaluate it using Mean Squared Error (MSE)."
      ],
      "metadata": {
        "id": "cKkUm5oyQ6LG"
      }
    },
    {
      "cell_type": "code",
      "source": [
        "from sklearn.datasets import fetch_california_housing\n",
        "from sklearn.model_selection import train_test_split\n",
        "from sklearn.svm import SVR\n",
        "from sklearn.metrics import mean_squared_error\n",
        "\n",
        "data = fetch_california_housing()\n",
        "X, y = data.data, data.target\n",
        "\n",
        "X_train, X_test, y_train, y_test = train_test_split(X, y, test_size=0.2, random_state=42)\n",
        "\n",
        "svr = SVR()\n",
        "svr.fit(X_train, y_train)\n",
        "y_pred = svr.predict(X_test)\n",
        "\n",
        "print(\"Mean Squared Error:\", mean_squared_error(y_test, y_pred))\n"
      ],
      "metadata": {
        "colab": {
          "base_uri": "https://localhost:8080/"
        },
        "id": "V4XieZD6RA_z",
        "outputId": "af35ed03-ade2-4921-cceb-37773b564a72"
      },
      "execution_count": 3,
      "outputs": [
        {
          "output_type": "stream",
          "name": "stdout",
          "text": [
            "Mean Squared Error: 1.3320115421348744\n"
          ]
        }
      ]
    },
    {
      "cell_type": "markdown",
      "source": [
        "Q24. Write a Python program to train an SVM Classifier with a Polynomial Kernel and visualize the decision boundary."
      ],
      "metadata": {
        "id": "arpdhKnXRFLJ"
      }
    },
    {
      "cell_type": "code",
      "source": [
        "from sklearn.datasets import make_moons\n",
        "from sklearn.svm import SVC\n",
        "import matplotlib.pyplot as plt\n",
        "import numpy as np\n",
        "\n",
        "X, y = make_moons(n_samples=100, noise=0.1, random_state=42)\n",
        "model = SVC(kernel='poly', degree=3)\n",
        "model.fit(X, y)\n",
        "\n",
        "# Plotting\n",
        "x_min, x_max = X[:, 0].min() - 1, X[:, 0].max() + 1\n",
        "y_min, y_max = X[:, 1].min() - 1, X[:, 1].max() + 1\n",
        "xx, yy = np.meshgrid(np.linspace(x_min, x_max, 200),\n",
        "                     np.linspace(y_min, y_max, 200))\n",
        "\n",
        "Z = model.predict(np.c_[xx.ravel(), yy.ravel()])\n",
        "Z = Z.reshape(xx.shape)\n",
        "\n",
        "plt.contourf(xx, yy, Z, alpha=0.5)\n",
        "plt.scatter(X[:, 0], X[:, 1], c=y, edgecolors='k')\n",
        "plt.title(\"SVM with Polynomial Kernel\")\n",
        "plt.show()\n"
      ],
      "metadata": {
        "colab": {
          "base_uri": "https://localhost:8080/",
          "height": 452
        },
        "id": "u2x3yyHfRHq1",
        "outputId": "102bb94e-e316-4d37-d0af-98278abf5bfd"
      },
      "execution_count": 4,
      "outputs": [
        {
          "output_type": "display_data",
          "data": {
            "text/plain": [
              "<Figure size 640x480 with 1 Axes>"
            ],
            "image/png": "[encoded data removed]"
          },
          "metadata": {}
        }
      ]
    },
    {
      "cell_type": "markdown",
      "source": [
        " Q25. Write a Python program to train a Gaussian Naïve Bayes classifier on the Breast Cancer dataset and evaluate accuracy.\n",
        "python\n",
        "Copy\n",
        "Edit\n"
      ],
      "metadata": {
        "id": "3Cw7L0EERKFQ"
      }
    },
    {
      "cell_type": "code",
      "source": [
        "from sklearn.datasets import load_breast_cancer\n",
        "from sklearn.model_selection import train_test_split\n",
        "from sklearn.naive_bayes import GaussianNB\n",
        "from sklearn.metrics import accuracy_score\n",
        "\n",
        "data = load_breast_cancer()\n",
        "X, y = data.data, data.target\n",
        "\n",
        "X_train, X_test, y_train, y_test = train_test_split(X, y, test_size=0.2, random_state=42)\n",
        "\n",
        "model = GaussianNB()\n",
        "model.fit(X_train, y_train)\n",
        "y_pred = model.predict(X_test)\n",
        "\n",
        "print(\"Accuracy:\", accuracy_score(y_test, y_pred))\n"
      ],
      "metadata": {
        "colab": {
          "base_uri": "https://localhost:8080/"
        },
        "id": "Ls16qM-JRPpa",
        "outputId": "0377f0e5-69dc-4e4c-a1a8-f0d7539ccd27"
      },
      "execution_count": 5,
      "outputs": [
        {
          "output_type": "stream",
          "name": "stdout",
          "text": [
            "Accuracy: 0.9736842105263158\n"
          ]
        }
      ]
    },
    {
      "cell_type": "markdown",
      "source": [
        " Q26. Write a Python program to train a Multinomial Naive Bayes classifier for text classification using the 20 Newsgroups dataset.\n",
        "python\n",
        "Copy\n",
        "Edit\n"
      ],
      "metadata": {
        "id": "3kJbl_UzRQ84"
      }
    },
    {
      "cell_type": "code",
      "source": [
        "from sklearn.datasets import fetch_20newsgroups\n",
        "from sklearn.feature_extraction.text import CountVectorizer\n",
        "from sklearn.model_selection import train_test_split\n",
        "from sklearn.naive_bayes import MultinomialNB\n",
        "from sklearn.metrics import accuracy_score\n",
        "\n",
        "data = fetch_20newsgroups(subset='all', shuffle=True, random_state=42)\n",
        "X, y = data.data, data.target\n",
        "\n",
        "vectorizer = CountVectorizer()\n",
        "X_vec = vectorizer.fit_transform(X)\n",
        "\n",
        "X_train, X_test, y_train, y_test = train_test_split(X_vec, y, test_size=0.2, random_state=42)\n",
        "\n",
        "model = MultinomialNB()\n",
        "model.fit(X_train, y_train)\n",
        "y_pred = model.predict(X_test)\n",
        "\n",
        "print(\"Accuracy:\", accuracy_score(y_test, y_pred))\n"
      ],
      "metadata": {
        "colab": {
          "base_uri": "https://localhost:8080/"
        },
        "id": "WRN6QCicRTNA",
        "outputId": "7418ebeb-3ef9-4abf-d5d6-53240cb4498a"
      },
      "execution_count": 6,
      "outputs": [
        {
          "output_type": "stream",
          "name": "stdout",
          "text": [
            "Accuracy: 0.8503978779840848\n"
          ]
        }
      ]
    },
    {
      "cell_type": "markdown",
      "source": [
        "Q27. Write a Python program to train an SVM Classifier with different C values and compare the decision boundaries visually."
      ],
      "metadata": {
        "id": "Ff7tFyKtRUoQ"
      }
    },
    {
      "cell_type": "code",
      "source": [
        "from sklearn.datasets import make_classification\n",
        "from sklearn.svm import SVC\n",
        "import matplotlib.pyplot as plt\n",
        "import numpy as np\n",
        "\n",
        "X, y = make_classification(n_samples=100, n_features=2, n_informative=2,\n",
        "                           n_redundant=0, n_clusters_per_class=1, random_state=42)\n",
        "\n",
        "C_values = [0.1, 1, 10]\n",
        "plt.figure(figsize=(12, 4))\n",
        "\n",
        "for i, C in enumerate(C_values):\n",
        "    model = SVC(C=C, kernel='linear')\n",
        "    model.fit(X, y)\n",
        "\n",
        "    plt.subplot(1, 3, i+1)\n",
        "    ax = plt.gca()\n",
        "    xlim = ax.get_xlim()\n",
        "    ylim = ax.get_ylim()\n",
        "\n",
        "    xx = np.linspace(xlim[0], xlim[1], 200)\n",
        "    yy = np.linspace(ylim[0], ylim[1], 200)\n",
        "    YY, XX = np.meshgrid(yy, xx)\n",
        "    xy = np.vstack([XX.ravel(), YY.ravel()]).T\n",
        "    Z = model.decision_function(xy).reshape(XX.shape)\n",
        "\n",
        "    plt.contour(XX, YY, Z, colors='k', levels=[0], linestyles=['-'])\n",
        "    plt.scatter(X[:, 0], X[:, 1], c=y, cmap=plt.cm.coolwarm)\n",
        "    plt.title(f\"C = {C}\")\n",
        "\n",
        "plt.tight_layout()\n",
        "plt.show()\n"
      ],
      "metadata": {
        "colab": {
          "base_uri": "https://localhost:8080/",
          "height": 407
        },
        "id": "HB6vdOufRWkR",
        "outputId": "335b14a5-08c5-4008-89c5-64ae6ef137fa"
      },
      "execution_count": 7,
      "outputs": [
        {
          "output_type": "display_data",
          "data": {
            "text/plain": [
              "<Figure size 1200x400 with 3 Axes>"
            ],
            "image/png": "[encoded data removed]"
          },
          "metadata": {}
        }
      ]
    },
    {
      "cell_type": "markdown",
      "source": [
        "Q28. Write a Python program to train a Bernoulli Naïve Bayes classifier for binary classification on a dataset with binary features.\n",
        "python\n",
        "Copy\n",
        "Edit\n"
      ],
      "metadata": {
        "id": "eJhQcrs8RZjB"
      }
    },
    {
      "cell_type": "code",
      "source": [
        "from sklearn.datasets import make_classification\n",
        "from sklearn.preprocessing import Binarizer\n",
        "from sklearn.naive_bayes import BernoulliNB\n",
        "from sklearn.model_selection import train_test_split\n",
        "from sklearn.metrics import accuracy_score\n",
        "\n",
        "X, y = make_classification(n_samples=1000, n_features=20, random_state=42)\n",
        "X_bin = Binarizer().fit_transform(X)\n",
        "\n",
        "X_train, X_test, y_train, y_test = train_test_split(X_bin, y, test_size=0.2, random_state=42)\n",
        "\n",
        "model = BernoulliNB()\n",
        "model.fit(X_train, y_train)\n",
        "y_pred = model.predict(X_test)\n",
        "\n",
        "print(\"Accuracy:\", accuracy_score(y_test, y_pred))\n"
      ],
      "metadata": {
        "colab": {
          "base_uri": "https://localhost:8080/"
        },
        "id": "5KC6Cr7qRbpq",
        "outputId": "4e495788-14cf-435b-ede5-fbec83de0e27"
      },
      "execution_count": 8,
      "outputs": [
        {
          "output_type": "stream",
          "name": "stdout",
          "text": [
            "Accuracy: 0.805\n"
          ]
        }
      ]
    },
    {
      "cell_type": "markdown",
      "source": [
        "Q29. Write a Python program to apply feature scaling before training an SVM model and compare results with unscaled data.\n",
        "python\n",
        "Copy\n",
        "Edit\n"
      ],
      "metadata": {
        "id": "vnSs93-wRdKp"
      }
    },
    {
      "cell_type": "code",
      "source": [
        "from sklearn import datasets\n",
        "from sklearn.model_selection import train_test_split\n",
        "from sklearn.preprocessing import StandardScaler\n",
        "from sklearn.svm import SVC\n",
        "from sklearn.metrics import accuracy_score\n",
        "\n",
        "X, y = datasets.load_iris(return_X_y=True)\n",
        "X_train, X_test, y_train, y_test = train_test_split(X, y, test_size=0.2, random_state=42)\n",
        "\n",
        "# Without Scaling\n",
        "model1 = SVC()\n",
        "model1.fit(X_train, y_train)\n",
        "acc1 = accuracy_score(y_test, model1.predict(X_test))\n",
        "\n",
        "# With Scaling\n",
        "scaler = StandardScaler()\n",
        "X_train_scaled = scaler.fit_transform(X_train)\n",
        "X_test_scaled = scaler.transform(X_test)\n",
        "\n",
        "model2 = SVC()\n",
        "model2.fit(X_train_scaled, y_train)\n",
        "acc2 = accuracy_score(y_test, model2.predict(X_test_scaled))\n",
        "\n",
        "print(\"Without Scaling Accuracy:\", acc1)\n",
        "print(\"With Scaling Accuracy:\", acc2)\n"
      ],
      "metadata": {
        "colab": {
          "base_uri": "https://localhost:8080/"
        },
        "id": "0VkB2x8oRe9Z",
        "outputId": "4b69ada7-8e90-4a7a-c6f7-56120d898268"
      },
      "execution_count": 9,
      "outputs": [
        {
          "output_type": "stream",
          "name": "stdout",
          "text": [
            "Without Scaling Accuracy: 1.0\n",
            "With Scaling Accuracy: 1.0\n"
          ]
        }
      ]
    },
    {
      "cell_type": "markdown",
      "source": [
        "Q30. Write a Python program to train a Gaussian Naïve Bayes model and compare the predictions before and after Laplace Smoothing.\n",
        "python\n",
        "Copy\n",
        "Edit\n"
      ],
      "metadata": {
        "id": "uZ563S8YRg-a"
      }
    },
    {
      "cell_type": "code",
      "source": [
        "from sklearn.datasets import load_breast_cancer\n",
        "from sklearn.model_selection import train_test_split\n",
        "from sklearn.naive_bayes import GaussianNB\n",
        "from sklearn.metrics import accuracy_score\n",
        "\n",
        "data = load_breast_cancer()\n",
        "X, y = data.data, data.target\n",
        "\n",
        "X_train, X_test, y_train, y_test = train_test_split(X, y, test_size=0.2, random_state=42)\n",
        "\n",
        "model = GaussianNB()\n",
        "model.fit(X_train, y_train)\n",
        "y_pred1 = model.predict(X_test)\n",
        "\n",
        "# Laplace smoothing not natively supported in GaussianNB; simulate by adjusting var_smoothing\n",
        "model_smoothed = GaussianNB(var_smoothing=1e-8)\n",
        "model_smoothed.fit(X_train, y_train)\n",
        "y_pred2 = model_smoothed.predict(X_test)\n",
        "\n",
        "print(\"Accuracy without smoothing:\", accuracy_score(y_test, y_pred1))\n",
        "print(\"Accuracy with Laplace-like smoothing:\", accuracy_score(y_test, y_pred2))\n"
      ],
      "metadata": {
        "colab": {
          "base_uri": "https://localhost:8080/"
        },
        "id": "p0GFUmmPRiyR",
        "outputId": "ea37ec67-a026-47f1-f2c6-c45acc24ee82"
      },
      "execution_count": 10,
      "outputs": [
        {
          "output_type": "stream",
          "name": "stdout",
          "text": [
            "Accuracy without smoothing: 0.9736842105263158\n",
            "Accuracy with Laplace-like smoothing: 0.9649122807017544\n"
          ]
        }
      ]
    },
    {
      "cell_type": "markdown",
      "source": [
        "Q.31. Write a Python program to train an SVM Classifier and use GridSearchCV to tune the hyperparameters (C, gamma, kernel)."
      ],
      "metadata": {
        "id": "o_Od9s5IRlYC"
      }
    },
    {
      "cell_type": "code",
      "source": [
        "from sklearn import datasets\n",
        "from sklearn.model_selection import GridSearchCV, train_test_split\n",
        "from sklearn.svm import SVC\n",
        "from sklearn.metrics import accuracy_score\n",
        "\n",
        "# Load dataset\n",
        "iris = datasets.load_iris()\n",
        "X, y = iris.data, iris.target\n",
        "\n",
        "# Split data\n",
        "X_train, X_test, y_train, y_test = train_test_split(X, y, test_size=0.2, random_state=42)\n",
        "\n",
        "# Define parameter grid\n",
        "param_grid = {\n",
        "    'C': [0.1, 1, 10],\n",
        "    'gamma': [1, 0.1, 0.01],\n",
        "    'kernel': ['linear', 'rbf', 'poly']\n",
        "}\n",
        "\n",
        "# Grid search\n",
        "grid = GridSearchCV(SVC(), param_grid, refit=True, cv=5)\n",
        "grid.fit(X_train, y_train)\n",
        "\n",
        "# Predict and evaluate\n",
        "y_pred = grid.predict(X_test)\n",
        "print(\"Best Parameters:\", grid.best_params_)\n",
        "print(\"Accuracy:\", accuracy_score(y_test, y_pred))\n"
      ],
      "metadata": {
        "colab": {
          "base_uri": "https://localhost:8080/"
        },
        "id": "z5IEH14qSHiU",
        "outputId": "ab1917df-867c-4572-f44a-6ac63b0d4d56"
      },
      "execution_count": 11,
      "outputs": [
        {
          "output_type": "stream",
          "name": "stdout",
          "text": [
            "Best Parameters: {'C': 0.1, 'gamma': 0.1, 'kernel': 'poly'}\n",
            "Accuracy: 1.0\n"
          ]
        }
      ]
    },
    {
      "cell_type": "markdown",
      "source": [
        "Q.32. Write a Python program to train an SVM Classifier on an imbalanced dataset and apply class weighting and check if it improves accuracy."
      ],
      "metadata": {
        "id": "EBeBavCgSJi0"
      }
    },
    {
      "cell_type": "code",
      "source": [
        "from sklearn.datasets import make_classification\n",
        "from sklearn.model_selection import train_test_split\n",
        "from sklearn.svm import SVC\n",
        "from sklearn.metrics import accuracy_score\n",
        "\n",
        "# Create imbalanced dataset\n",
        "X, y = make_classification(n_samples=1000, n_classes=2, weights=[0.9, 0.1], flip_y=0, random_state=42)\n",
        "\n",
        "# Split data\n",
        "X_train, X_test, y_train, y_test = train_test_split(X, y, test_size=0.3, random_state=42)\n",
        "\n",
        "# Without class_weight\n",
        "model1 = SVC()\n",
        "model1.fit(X_train, y_train)\n",
        "pred1 = model1.predict(X_test)\n",
        "acc1 = accuracy_score(y_test, pred1)\n",
        "\n",
        "# With class_weight\n",
        "model2 = SVC(class_weight='balanced')\n",
        "model2.fit(X_train, y_train)\n",
        "pred2 = model2.predict(X_test)\n",
        "acc2 = accuracy_score(y_test, pred2)\n",
        "\n",
        "print(\"Accuracy without class weighting:\", acc1)\n",
        "print(\"Accuracy with class weighting:\", acc2)\n"
      ],
      "metadata": {
        "colab": {
          "base_uri": "https://localhost:8080/"
        },
        "id": "VOaUI0J8SMMk",
        "outputId": "023ace44-3338-4e25-c136-3f3a6348b8b1"
      },
      "execution_count": 12,
      "outputs": [
        {
          "output_type": "stream",
          "name": "stdout",
          "text": [
            "Accuracy without class weighting: 0.9366666666666666\n",
            "Accuracy with class weighting: 0.92\n"
          ]
        }
      ]
    },
    {
      "cell_type": "markdown",
      "source": [
        "Q.33. Write a Python program to implement a Naïve Bayes classifier for spam detection using email data."
      ],
      "metadata": {
        "id": "BBaQKaygSP3c"
      }
    },
    {
      "cell_type": "code",
      "source": [
        "from sklearn.model_selection import train_test_split\n",
        "from sklearn.feature_extraction.text import CountVectorizer\n",
        "from sklearn.naive_bayes import MultinomialNB\n",
        "from sklearn.metrics import accuracy_score\n",
        "\n",
        "# Sample email data\n",
        "emails = [\n",
        "    'Win money now', 'Free cash bonus', 'Call me tonight', 'How are you?',\n",
        "    'Get rich quick', 'Let’s meet tomorrow', 'Earn from home', 'Lunch at 1?',\n",
        "    'Free lottery tickets', 'Can we talk later?'\n",
        "]\n",
        "labels = [1, 1, 0, 0, 1, 0, 1, 0, 1, 0]  # 1 = spam, 0 = not spam\n",
        "\n",
        "# Text vectorization\n",
        "vectorizer = CountVectorizer()\n",
        "X = vectorizer.fit_transform(emails)\n",
        "\n",
        "# Train-test split\n",
        "X_train, X_test, y_train, y_test = train_test_split(X, labels, test_size=0.3, random_state=42)\n",
        "\n",
        "# Train model\n",
        "model = MultinomialNB()\n",
        "model.fit(X_train, y_train)\n",
        "\n",
        "# Predict and evaluate\n",
        "y_pred = model.predict(X_test)\n",
        "print(\"Accuracy:\", accuracy_score(y_test, y_pred))\n"
      ],
      "metadata": {
        "colab": {
          "base_uri": "https://localhost:8080/"
        },
        "id": "F03VTPcPSWNV",
        "outputId": "d8e5e9f9-f43e-4095-b40d-a947f04a387e"
      },
      "execution_count": 13,
      "outputs": [
        {
          "output_type": "stream",
          "name": "stdout",
          "text": [
            "Accuracy: 0.3333333333333333\n"
          ]
        }
      ]
    },
    {
      "cell_type": "markdown",
      "source": [
        "Q.34. Write a Python program to train an SVM Classifier and a Naïve Bayes Classifier on the same dataset and compare their accuracy."
      ],
      "metadata": {
        "id": "QcXWn2bRSYD3"
      }
    },
    {
      "cell_type": "code",
      "source": [
        "from sklearn.datasets import load_iris\n",
        "from sklearn.model_selection import train_test_split\n",
        "from sklearn.svm import SVC\n",
        "from sklearn.naive_bayes import GaussianNB\n",
        "from sklearn.metrics import accuracy_score\n",
        "\n",
        "# Load dataset\n",
        "data = load_iris()\n",
        "X, y = data.data, data.target\n",
        "\n",
        "# Split data\n",
        "X_train, X_test, y_train, y_test = train_test_split(X, y, test_size=0.3, random_state=42)\n",
        "\n",
        "# SVM Classifier\n",
        "svm_model = SVC()\n",
        "svm_model.fit(X_train, y_train)\n",
        "svm_pred = svm_model.predict(X_test)\n",
        "\n",
        "# Naive Bayes Classifier\n",
        "nb_model = GaussianNB()\n",
        "nb_model.fit(X_train, y_train)\n",
        "nb_pred = nb_model.predict(X_test)\n",
        "\n",
        "# Accuracy comparison\n",
        "print(\"SVM Accuracy:\", accuracy_score(y_test, svm_pred))\n",
        "print(\"Naive Bayes Accuracy:\", accuracy_score(y_test, nb_pred))\n"
      ],
      "metadata": {
        "colab": {
          "base_uri": "https://localhost:8080/"
        },
        "id": "KshlnyMvSbYl",
        "outputId": "55d4da5d-3f97-431d-d507-481cf5a5a2a7"
      },
      "execution_count": 14,
      "outputs": [
        {
          "output_type": "stream",
          "name": "stdout",
          "text": [
            "SVM Accuracy: 1.0\n",
            "Naive Bayes Accuracy: 0.9777777777777777\n"
          ]
        }
      ]
    },
    {
      "cell_type": "markdown",
      "source": [
        "Q.35. Write a Python program to perform feature selection before training a Naïve Bayes classifier and compare results."
      ],
      "metadata": {
        "id": "10uGm-AwSdRu"
      }
    },
    {
      "cell_type": "code",
      "source": [
        "from sklearn.datasets import load_iris\n",
        "from sklearn.model_selection import train_test_split\n",
        "from sklearn.naive_bayes import GaussianNB\n",
        "from sklearn.feature_selection import SelectKBest, f_classif\n",
        "from sklearn.metrics import accuracy_score\n",
        "\n",
        "# Load dataset\n",
        "iris = load_iris()\n",
        "X, y = iris.data, iris.target\n",
        "\n",
        "# Split\n",
        "X_train, X_test, y_train, y_test = train_test_split(X, y, test_size=0.3, random_state=42)\n",
        "\n",
        "# Without feature selection\n",
        "model1 = GaussianNB()\n",
        "model1.fit(X_train, y_train)\n",
        "pred1 = model1.predict(X_test)\n",
        "acc1 = accuracy_score(y_test, pred1)\n",
        "\n",
        "# With feature selection (top 2 features)\n",
        "selector = SelectKBest(score_func=f_classif, k=2)\n",
        "X_train_sel = selector.fit_transform(X_train, y_train)\n",
        "X_test_sel = selector.transform(X_test)\n",
        "\n",
        "model2 = GaussianNB()\n",
        "model2.fit(X_train_sel, y_train)\n",
        "pred2 = model2.predict(X_test_sel)\n",
        "acc2 = accuracy_score(y_test, pred2)\n",
        "\n",
        "print(\"Accuracy without feature selection:\", acc1)\n",
        "print(\"Accuracy with feature selection:\", acc2)\n"
      ],
      "metadata": {
        "colab": {
          "base_uri": "https://localhost:8080/"
        },
        "id": "n9a4iO-ISfjJ",
        "outputId": "e70353fe-9f9a-434b-80b5-ca89cbd2ef25"
      },
      "execution_count": 15,
      "outputs": [
        {
          "output_type": "stream",
          "name": "stdout",
          "text": [
            "Accuracy without feature selection: 0.9777777777777777\n",
            "Accuracy with feature selection: 1.0\n"
          ]
        }
      ]
    },
    {
      "cell_type": "markdown",
      "source": [
        "Q.36. Write a Python program to train an SVM Classifier using One-vs-Rest (OvR) and One-vs-One (OvO) strategies on the Wine dataset and compare their accuracy."
      ],
      "metadata": {
        "id": "M9zU96LzShj2"
      }
    },
    {
      "cell_type": "code",
      "source": [
        "from sklearn.datasets import load_wine\n",
        "from sklearn.model_selection import train_test_split\n",
        "from sklearn.multiclass import OneVsRestClassifier, OneVsOneClassifier\n",
        "from sklearn.svm import SVC\n",
        "from sklearn.metrics import accuracy_score\n",
        "\n",
        "# Load data\n",
        "wine = load_wine()\n",
        "X, y = wine.data, wine.target\n",
        "\n",
        "# Split\n",
        "X_train, X_test, y_train, y_test = train_test_split(X, y, test_size=0.3, random_state=42)\n",
        "\n",
        "# One-vs-Rest\n",
        "ovr_model = OneVsRestClassifier(SVC())\n",
        "ovr_model.fit(X_train, y_train)\n",
        "ovr_pred = ovr_model.predict(X_test)\n",
        "ovr_acc = accuracy_score(y_test, ovr_pred)\n",
        "\n",
        "# One-vs-One\n",
        "ovo_model = OneVsOneClassifier(SVC())\n",
        "ovo_model.fit(X_train, y_train)\n",
        "ovo_pred = ovo_model.predict(X_test)\n",
        "ovo_acc = accuracy_score(y_test, ovo_pred)\n",
        "\n",
        "print(\"OvR Accuracy:\", ovr_acc)\n",
        "print(\"OvO Accuracy:\", ovo_acc)\n"
      ],
      "metadata": {
        "colab": {
          "base_uri": "https://localhost:8080/"
        },
        "id": "GBLSEADuSkOu",
        "outputId": "2114dd21-6d43-44d2-f822-44c5ca86a0dd"
      },
      "execution_count": 16,
      "outputs": [
        {
          "output_type": "stream",
          "name": "stdout",
          "text": [
            "OvR Accuracy: 0.7222222222222222\n",
            "OvO Accuracy: 0.7962962962962963\n"
          ]
        }
      ]
    },
    {
      "cell_type": "markdown",
      "source": [
        "Q.37. Write a Python program to train an SVM Classifier using Linear, Polynomial, and RBF kernels on the Breast Cancer dataset and compare their accuracy."
      ],
      "metadata": {
        "id": "1lk16KftSnPu"
      }
    },
    {
      "cell_type": "code",
      "source": [
        "from sklearn.datasets import load_breast_cancer\n",
        "from sklearn.model_selection import train_test_split\n",
        "from sklearn.svm import SVC\n",
        "from sklearn.metrics import accuracy_score\n",
        "\n",
        "# Load data\n",
        "data = load_breast_cancer()\n",
        "X, y = data.data, data.target\n",
        "\n",
        "# Split\n",
        "X_train, X_test, y_train, y_test = train_test_split(X, y, test_size=0.3, random_state=42)\n",
        "\n",
        "# Linear kernel\n",
        "linear_model = SVC(kernel='linear')\n",
        "linear_model.fit(X_train, y_train)\n",
        "linear_acc = accuracy_score(y_test, linear_model.predict(X_test))\n",
        "\n",
        "# Polynomial kernel\n",
        "poly_model = SVC(kernel='poly', degree=3)\n",
        "poly_model.fit(X_train, y_train)\n",
        "poly_acc = accuracy_score(y_test, poly_model.predict(X_test))\n",
        "\n",
        "# RBF kernel\n",
        "rbf_model = SVC(kernel='rbf')\n",
        "rbf_model.fit(X_train, y_train)\n",
        "rbf_acc = accuracy_score(y_test, rbf_model.predict(X_test))\n",
        "\n",
        "print(\"Linear Kernel Accuracy:\", linear_acc)\n",
        "print(\"Polynomial Kernel Accuracy:\", poly_acc)\n",
        "print(\"RBF Kernel Accuracy:\", rbf_acc)\n"
      ],
      "metadata": {
        "colab": {
          "base_uri": "https://localhost:8080/"
        },
        "id": "l4A2QcZ_SsIG",
        "outputId": "b4966198-99a1-43fc-e3e0-1e306891761a"
      },
      "execution_count": 17,
      "outputs": [
        {
          "output_type": "stream",
          "name": "stdout",
          "text": [
            "Linear Kernel Accuracy: 0.9649122807017544\n",
            "Polynomial Kernel Accuracy: 0.9415204678362573\n",
            "RBF Kernel Accuracy: 0.935672514619883\n"
          ]
        }
      ]
    },
    {
      "cell_type": "markdown",
      "source": [
        "Q.38. Write a Python program to train an SVM Classifier using Stratified K-Fold Cross-Validation and compute the average accuracy."
      ],
      "metadata": {
        "id": "88p7yFlmSueo"
      }
    },
    {
      "cell_type": "code",
      "source": [
        "  from sklearn.datasets import load_iris\n",
        "from sklearn.model_selection import StratifiedKFold, cross_val_score\n",
        "from sklearn.svm import SVC\n",
        "\n",
        "# Load data\n",
        "data = load_iris()\n",
        "X, y = data.data, data.target\n",
        "\n",
        "# SVM model\n",
        "model = SVC(kernel='linear')\n",
        "\n",
        "# Stratified K-Fold\n",
        "skf = StratifiedKFold(n_splits=5)\n",
        "scores = cross_val_score(model, X, y, cv=skf)\n",
        "\n",
        "print(\"Accuracy scores:\", scores)\n",
        "print(\"Average Accuracy:\", scores.mean())\n"
      ],
      "metadata": {
        "colab": {
          "base_uri": "https://localhost:8080/"
        },
        "id": "aIOv93czSxH3",
        "outputId": "3439da71-d2d7-4158-d2ca-628679850172"
      },
      "execution_count": 18,
      "outputs": [
        {
          "output_type": "stream",
          "name": "stdout",
          "text": [
            "Accuracy scores: [0.96666667 1.         0.96666667 0.96666667 1.        ]\n",
            "Average Accuracy: 0.9800000000000001\n"
          ]
        }
      ]
    },
    {
      "cell_type": "markdown",
      "source": [
        "Q.39. Write a Python program to train a Naive Bayes classifier using different prior probabilities and compare performance."
      ],
      "metadata": {
        "id": "i-6BCLI2SzxW"
      }
    },
    {
      "cell_type": "code",
      "source": [
        "from sklearn.datasets import load_iris\n",
        "from sklearn.model_selection import train_test_split\n",
        "from sklearn.naive_bayes import GaussianNB\n",
        "from sklearn.metrics import accuracy_score\n",
        "\n",
        "# Load data\n",
        "data = load_iris()\n",
        "X, y = data.data, data.target\n",
        "\n",
        "# Split data\n",
        "X_train, X_test, y_train, y_test = train_test_split(X, y, test_size=0.3, random_state=42)\n",
        "\n",
        "# Default priors\n",
        "model1 = GaussianNB()\n",
        "model1.fit(X_train, y_train)\n",
        "acc1 = accuracy_score(y_test, model1.predict(X_test))\n",
        "\n",
        "# Custom priors\n",
        "model2 = GaussianNB(priors=[0.2, 0.5, 0.3])\n",
        "model2.fit(X_train, y_train)\n",
        "acc2 = accuracy_score(y_test, model2.predict(X_test))\n",
        "\n",
        "print(\"Default Priors Accuracy:\", acc1)\n",
        "print(\"Custom Priors Accuracy:\", acc2)\n"
      ],
      "metadata": {
        "colab": {
          "base_uri": "https://localhost:8080/"
        },
        "id": "LTd4gdA5S1p_",
        "outputId": "f13bb179-f714-4b71-b157-ad6de11d570a"
      },
      "execution_count": 19,
      "outputs": [
        {
          "output_type": "stream",
          "name": "stdout",
          "text": [
            "Default Priors Accuracy: 0.9777777777777777\n",
            "Custom Priors Accuracy: 1.0\n"
          ]
        }
      ]
    },
    {
      "cell_type": "markdown",
      "source": [
        "Q.40. Write a Python program to perform Recursive Feature Elimination (RFE) before training an SVM Classifier and compare accuracy."
      ],
      "metadata": {
        "id": "K8hVdRrzS3jP"
      }
    },
    {
      "cell_type": "code",
      "source": [
        "from sklearn.datasets import load_breast_cancer\n",
        "from sklearn.model_selection import train_test_split\n",
        "from sklearn.svm import SVC\n",
        "from sklearn.feature_selection import RFE\n",
        "from sklearn.metrics import accuracy_score\n",
        "\n",
        "# Load data\n",
        "data = load_breast_cancer()\n",
        "X, y = data.data, data.target\n",
        "\n",
        "# Split\n",
        "X_train, X_test, y_train, y_test = train_test_split(X, y, test_size=0.3, random_state=42)\n",
        "\n",
        "# Base model\n",
        "model = SVC(kernel='linear')\n",
        "\n",
        "# RFE\n",
        "selector = RFE(estimator=model, n_features_to_select=10)\n",
        "selector.fit(X_train, y_train)\n",
        "\n",
        "# Predict with selected features\n",
        "X_test_selected = selector.transform(X_test)\n",
        "model.fit(selector.transform(X_train), y_train)\n",
        "y_pred = model.predict(X_test_selected)\n",
        "\n",
        "# Accuracy\n",
        "print(\"Accuracy with RFE-selected features:\", accuracy_score(y_test, y_pred))\n"
      ],
      "metadata": {
        "colab": {
          "base_uri": "https://localhost:8080/"
        },
        "id": "Lhp9hcuYS6Ei",
        "outputId": "0831f27a-7056-469e-8fdc-1d69f83fe54a"
      },
      "execution_count": 20,
      "outputs": [
        {
          "output_type": "stream",
          "name": "stdout",
          "text": [
            "Accuracy with RFE-selected features: 0.9298245614035088\n"
          ]
        }
      ]
    },
    {
      "cell_type": "markdown",
      "source": [
        "Q.41. Write a Python program to train an SVM Classifier and evaluate its performance using Precision, Recall, and F1-Score instead of accuracy.\n",
        "Answer:"
      ],
      "metadata": {
        "id": "CY9kUHC8S8bn"
      }
    },
    {
      "cell_type": "code",
      "source": [
        "from sklearn.datasets import load_breast_cancer\n",
        "from sklearn.model_selection import train_test_split\n",
        "from sklearn.svm import SVC\n",
        "from sklearn.metrics import precision_score, recall_score, f1_score\n",
        "\n",
        "# Load dataset\n",
        "data = load_breast_cancer()\n",
        "X, y = data.data, data.target\n",
        "\n",
        "# Split data\n",
        "X_train, X_test, y_train, y_test = train_test_split(X, y, test_size=0.3, random_state=42)\n",
        "\n",
        "# Train model\n",
        "model = SVC(kernel='linear')\n",
        "model.fit(X_train, y_train)\n",
        "y_pred = model.predict(X_test)\n",
        "\n",
        "# Evaluate\n",
        "print(\"Precision:\", precision_score(y_test, y_pred))\n",
        "print(\"Recall:\", recall_score(y_test, y_pred))\n",
        "print(\"F1-Score:\", f1_score(y_test, y_pred))\n"
      ],
      "metadata": {
        "colab": {
          "base_uri": "https://localhost:8080/"
        },
        "id": "nFBcOVOrTESx",
        "outputId": "c4b1605f-c3c9-4663-efd1-4313638b88a6"
      },
      "execution_count": 21,
      "outputs": [
        {
          "output_type": "stream",
          "name": "stdout",
          "text": [
            "Precision: 0.9636363636363636\n",
            "Recall: 0.9814814814814815\n",
            "F1-Score: 0.9724770642201835\n"
          ]
        }
      ]
    },
    {
      "cell_type": "markdown",
      "source": [
        "Q.42. Write a Python program to train a Naive Bayes Classifier and evaluate its performance using Log Loss (Cross-Entropy Loss)."
      ],
      "metadata": {
        "id": "6Vj8j6HXTGZw"
      }
    },
    {
      "cell_type": "code",
      "source": [
        "from sklearn.datasets import load_iris\n",
        "from sklearn.model_selection import train_test_split\n",
        "from sklearn.naive_bayes import GaussianNB\n",
        "from sklearn.metrics import log_loss\n",
        "\n",
        "# Load dataset\n",
        "data = load_iris()\n",
        "X, y = data.data, data.target\n",
        "\n",
        "# Split\n",
        "X_train, X_test, y_train, y_test = train_test_split(X, y, test_size=0.3, random_state=42)\n",
        "\n",
        "# Train model\n",
        "model = GaussianNB()\n",
        "model.fit(X_train, y_train)\n",
        "\n",
        "# Predict probabilities\n",
        "y_prob = model.predict_proba(X_test)\n",
        "\n",
        "# Evaluate log loss\n",
        "print(\"Log Loss:\", log_loss(y_test, y_prob))\n"
      ],
      "metadata": {
        "colab": {
          "base_uri": "https://localhost:8080/"
        },
        "id": "B5yNKhJZTIEo",
        "outputId": "193ac03a-e686-4c27-abac-e65b45bc2236"
      },
      "execution_count": 22,
      "outputs": [
        {
          "output_type": "stream",
          "name": "stdout",
          "text": [
            "Log Loss: 0.04896447467183247\n"
          ]
        }
      ]
    },
    {
      "cell_type": "markdown",
      "source": [
        "Q.43. Write a Python program to train an SVM Classifier and visualize the Confusion Matrix using seaborn."
      ],
      "metadata": {
        "id": "d0ZwrqIRTKdA"
      }
    },
    {
      "cell_type": "code",
      "source": [
        "import seaborn as sns\n",
        "import matplotlib.pyplot as plt\n",
        "from sklearn.datasets import load_iris\n",
        "from sklearn.model_selection import train_test_split\n",
        "from sklearn.svm import SVC\n",
        "from sklearn.metrics import confusion_matrix\n",
        "\n",
        "# Load data\n",
        "data = load_iris()\n",
        "X, y = data.data, data.target\n",
        "\n",
        "# Split\n",
        "X_train, X_test, y_train, y_test = train_test_split(X, y, test_size=0.3, random_state=42)\n",
        "\n",
        "# Train model\n",
        "model = SVC()\n",
        "model.fit(X_train, y_train)\n",
        "y_pred = model.predict(X_test)\n",
        "\n",
        "# Confusion matrix\n",
        "cm = confusion_matrix(y_test, y_pred)\n",
        "\n",
        "# Plot\n",
        "sns.heatmap(cm, annot=True, fmt='d', cmap='Blues')\n",
        "plt.title('Confusion Matrix')\n",
        "plt.xlabel('Predicted')\n",
        "plt.ylabel('Actual')\n",
        "plt.show()\n"
      ],
      "metadata": {
        "colab": {
          "base_uri": "https://localhost:8080/",
          "height": 472
        },
        "id": "C_zo8PhTTM-5",
        "outputId": "27e6549d-fae8-4a76-efe9-b9a4f7403af9"
      },
      "execution_count": 23,
      "outputs": [
        {
          "output_type": "display_data",
          "data": {
            "text/plain": [
              "<Figure size 640x480 with 2 Axes>"
            ],
            "image/png": "[encoded data removed]"
          },
          "metadata": {}
        }
      ]
    },
    {
      "cell_type": "markdown",
      "source": [
        "Q.44. Write a Python program to train an SVM Regressor (SVR) and evaluate its performance using Mean Absolute Error (MAE) instead of MSE."
      ],
      "metadata": {
        "id": "ZqIdywqOTPRS"
      }
    },
    {
      "cell_type": "code",
      "source": [
        "from sklearn.datasets import fetch_california_housing\n",
        "from sklearn.model_selection import train_test_split\n",
        "from sklearn.svm import SVR\n",
        "from sklearn.metrics import mean_absolute_error\n",
        "\n",
        "# Load dataset\n",
        "data = fetch_california_housing()\n",
        "X, y = data.data, data.target\n",
        "\n",
        "# Split\n",
        "X_train, X_test, y_train, y_test = train_test_split(X, y, test_size=0.3, random_state=42)\n",
        "\n",
        "# Train SVR model\n",
        "model = SVR(kernel='linear')\n",
        "model.fit(X_train, y_train)\n",
        "\n",
        "# Predict and evaluate\n",
        "y_pred = model.predict(X_test)\n",
        "print(\"Mean Absolute Error (MAE):\", mean_absolute_error(y_test, y_pred))\n"
      ],
      "metadata": {
        "id": "H_b8-0vWTSGx"
      },
      "execution_count": null,
      "outputs": []
    },
    {
      "cell_type": "markdown",
      "source": [
        "Q.45. Write a Python program to train a Naïve Bayes classifier and evaluate its performance using the ROC-AUC score."
      ],
      "metadata": {
        "id": "Vz3ycu5VTZJ8"
      }
    },
    {
      "cell_type": "code",
      "source": [
        "from sklearn.datasets import load_breast_cancer\n",
        "from sklearn.model_selection import train_test_split\n",
        "from sklearn.naive_bayes import GaussianNB\n",
        "from sklearn.metrics import roc_auc_score\n",
        "\n",
        "# Load dataset\n",
        "data = load_breast_cancer()\n",
        "X, y = data.data, data.target\n",
        "\n",
        "# Split\n",
        "X_train, X_test, y_train, y_test = train_test_split(X, y, test_size=0.3, random_state=42)\n",
        "\n",
        "# Train Naive Bayes model\n",
        "model = GaussianNB()\n",
        "model.fit(X_train, y_train)\n",
        "\n",
        "# Predict probabilities\n",
        "y_probs = model.predict_proba(X_test)[:, 1]\n",
        "\n",
        "# Calculate ROC-AUC score\n",
        "roc_auc = roc_auc_score(y_test, y_probs)\n",
        "print(\"ROC-AUC Score:\", roc_auc)\n"
      ],
      "metadata": {
        "colab": {
          "base_uri": "https://localhost:8080/"
        },
        "id": "Sly2c9u5TZ3R",
        "outputId": "0985ba08-0256-4164-96f7-6cf39d65f7d5"
      },
      "execution_count": 1,
      "outputs": [
        {
          "output_type": "stream",
          "name": "stdout",
          "text": [
            "ROC-AUC Score: 0.9922104644326867\n"
          ]
        }
      ]
    },
    {
      "cell_type": "markdown",
      "source": [
        "Q.46. Write a Python program to train an SVM Classifier and visualize the Precision-Recall Curve."
      ],
      "metadata": {
        "id": "J0fDvc1cTdwb"
      }
    },
    {
      "cell_type": "code",
      "source": [
        "import matplotlib.pyplot as plt\n",
        "from sklearn.datasets import load_breast_cancer\n",
        "from sklearn.model_selection import train_test_split\n",
        "from sklearn.svm import SVC\n",
        "from sklearn.metrics import precision_recall_curve, PrecisionRecallDisplay\n",
        "\n",
        "# Load dataset\n",
        "data = load_breast_cancer()\n",
        "X, y = data.data, data.target\n",
        "\n",
        "# Split\n",
        "X_train, X_test, y_train, y_test = train_test_split(X, y, test_size=0.3, random_state=42)\n",
        "\n",
        "# Train SVM model with probability=True\n",
        "model = SVC(kernel='rbf', probability=True)\n",
        "model.fit(X_train, y_train)\n",
        "\n",
        "# Predict probabilities\n",
        "y_probs = model.predict_proba(X_test)[:, 1]\n",
        "\n",
        "# Precision-Recall curve\n",
        "precision, recall, _ = precision_recall_curve(y_test, y_probs)\n",
        "\n",
        "# Plot\n",
        "disp = PrecisionRecallDisplay(precision=precision, recall=recall)\n",
        "disp.plot()\n",
        "plt.title(\"Precision-Recall Curve\")\n",
        "plt.show()\n"
      ],
      "metadata": {
        "colab": {
          "base_uri": "https://localhost:8080/",
          "height": 472
        },
        "id": "_i9w8rlmTeXd",
        "outputId": "ec5415ba-b830-430d-c1b2-b9f50c573f3c"
      },
      "execution_count": 2,
      "outputs": [
        {
          "output_type": "display_data",
          "data": {
            "text/plain": [
              "<Figure size 640x480 with 1 Axes>"
            ],
            "image/png": "[encoded data removed]"
          },
          "metadata": {}
        }
      ]
    }
  ]
}